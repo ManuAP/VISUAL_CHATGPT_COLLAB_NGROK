{
  "nbformat": 4,
  "nbformat_minor": 0,
  "metadata": {
    "colab": {
      "provenance": []
    },
    "kernelspec": {
      "name": "python3",
      "display_name": "Python 3"
    },
    "language_info": {
      "name": "python"
    },
    "accelerator": "GPU",
    "gpuClass": "standard"
  },
  "cells": [
    {
      "cell_type": "code",
      "source": [
        "!pip install langchain==0.0.101\n",
        "!pip install torch==1.12.1\n",
        "!pip install torchvision==0.13.1\n",
        "!pip install gradio==3.20.1\n",
        "!pip install accelerate\n",
        "!pip install addict\n",
        "!pip install albumentations\n",
        "!pip install basicsr\n",
        "!pip install controlnet-aux\n",
        "!pip install diffusers\n",
        "!pip install einops\n",
        "!pip install imageio\n",
        "!pip install imageio-ffmpeg\n",
        "!pip install invisible-watermark\n",
        "!pip install kornia\n",
        "!pip install numpy\n",
        "!pip install omegaconf\n",
        "!pip install open_clip_torch\n",
        "!pip install openai\n",
        "!pip install opencv-python\n",
        "!pip install prettytable\n",
        "!pip install safetensors\n",
        "!pip install streamlit\n",
        "!pip install test-tube\n",
        "!pip install timm\n",
        "!pip install torchmetrics\n",
        "!pip install transformers\n",
        "!pip install webdataset\n",
        "!pip install yapf\n",
        "!pip install pyngrok"
      ],
      "metadata": {
        "id": "csVNxZ2qdRxM"
      },
      "execution_count": null,
      "outputs": []
    },
    {
      "cell_type": "code",
      "source": [
        "!wget https://bin.equinox.io/c/bNyj1mQVY4c/ngrok-v3-stable-linux-amd64.tgz\n",
        "!tar -xzf ngrok-v3-stable-linux-amd64.tgz\n",
        "!rm *.tgz\n",
        "!./ngrok config add-authtoken <API_KEY_NGROK>\n",
        "!./ngrok http 7868 >& /dev/null &"
      ],
      "metadata": {
        "id": "xpzPbT7coP56"
      },
      "execution_count": null,
      "outputs": []
    },
    {
      "cell_type": "code",
      "source": [
        "!wget https://raw.githubusercontent.com/microsoft/visual-chatgpt/main/visual_chatgpt.py\n",
        "%env OPENAI_API_KEY=<API_KEY_OPENAI>\n",
        "!python visual_chatgpt.py --load \"ImageCaptioning_cuda:0,Text2Image_cuda:0\""
      ],
      "metadata": {
        "id": "FXMT5CDBbjNV"
      },
      "execution_count": null,
      "outputs": []
    }
  ]
}